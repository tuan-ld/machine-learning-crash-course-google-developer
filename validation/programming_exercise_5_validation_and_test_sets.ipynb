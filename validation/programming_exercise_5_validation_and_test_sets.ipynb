{
 "cells": [
  {
   "cell_type": "code",
   "execution_count": null,
   "metadata": {
    "cellView": "form",
    "colab": {},
    "colab_type": "code",
    "id": "hMqWDc_m6rUC"
   },
   "outputs": [],
   "source": [
    "#@title Copyright 2020 Google LLC. Double-click here for license information.\n",
    "# Licensed under the Apache License, Version 2.0 (the \"License\");\n",
    "# you may not use this file except in compliance with the License.\n",
    "# You may obtain a copy of the License at\n",
    "#\n",
    "# https://www.apache.org/licenses/LICENSE-2.0\n",
    "#\n",
    "# Unless required by applicable law or agreed to in writing, software\n",
    "# distributed under the License is distributed on an \"AS IS\" BASIS,\n",
    "# WITHOUT WARRANTIES OR CONDITIONS OF ANY KIND, either express or implied.\n",
    "# See the License for the specific language governing permissions and\n",
    "# limitations under the License."
   ]
  },
  {
   "attachments": {},
   "cell_type": "markdown",
   "metadata": {
    "colab_type": "text",
    "id": "4f3CKqFUqL2-"
   },
   "source": [
    "# Validation Sets and Test Sets\n",
    "\n",
    "The previous Colab exercises evaluated the trained model against the training set, which does not provide a strong signal about the quality of your model. In this Colab, you'll experiment with validation sets and test sets.\n",
    "\n",
    "\n",
    "\n",
    "\n"
   ]
  },
  {
   "attachments": {},
   "cell_type": "markdown",
   "metadata": {
    "colab_type": "text",
    "id": "3spZH_kNkWWX"
   },
   "source": [
    "## Learning objectives\n",
    "\n",
    "After doing this Colab, you'll know how to do the following:\n",
    "\n",
    "  * Split a [training set](https://developers.google.com/machine-learning/glossary/#training_set) into a smaller training set and a [validation set](https://developers.google.com/machine-learning/glossary/#validation_set).\n",
    "  * Analyze deltas between training set and validation set results.\n",
    "  * Test the trained model with a [test set](https://developers.google.com/machine-learning/glossary/#test_set) to determine whether your trained model is [overfitting](https://developers.google.com/machine-learning/glossary/#overfitting).\n",
    "  * Detect and fix a common training problem."
   ]
  },
  {
   "attachments": {},
   "cell_type": "markdown",
   "metadata": {
    "colab_type": "text",
    "id": "gV82DJO3kWpk"
   },
   "source": [
    "## The dataset\n",
    "\n",
    "As in the previous exercise, this exercise uses the [California Housing dataset](https://developers.google.com/machine-learning/crash-course/california-housing-data-description) to predict the `median_house_value` at the city block level.  Like many \"famous\" datasets, the California Housing Dataset actually consists of two separate datasets, each living in separate .csv files:\n",
    "\n",
    "* The training set is in `california_housing_train.csv`.\n",
    "* The test set is in `california_housing_test.csv`.\n",
    "\n",
    "You'll create the validation set by dividing the downloaded training set into two parts:\n",
    "\n",
    "* a smaller training set  \n",
    "* a validation set"
   ]
  },
  {
   "attachments": {},
   "cell_type": "markdown",
   "metadata": {
    "colab_type": "text",
    "id": "u84mXopntPFZ"
   },
   "source": [
    "## Use the right version of TensorFlow\n",
    "\n",
    "The following hidden code cell ensures that the Colab will run on TensorFlow 2.X."
   ]
  },
  {
   "cell_type": "code",
   "execution_count": 1,
   "metadata": {
    "cellView": "form",
    "colab": {},
    "colab_type": "code",
    "id": "FBhNIdUatOU6"
   },
   "outputs": [
    {
     "name": "stderr",
     "output_type": "stream",
     "text": [
      "UsageError: Line magic function `%tensorflow_version` not found.\n"
     ]
    }
   ],
   "source": [
    "#@title Run on TensorFlow 2.x\n",
    "%tensorflow_version 2.x"
   ]
  },
  {
   "attachments": {},
   "cell_type": "markdown",
   "metadata": {
    "colab_type": "text",
    "id": "S8gm6BpqRRuh"
   },
   "source": [
    "## Import relevant modules\n",
    "\n",
    "As before, this first code cell imports the necessary modules and sets a few display options."
   ]
  },
  {
   "cell_type": "code",
   "execution_count": 2,
   "metadata": {
    "cellView": "form",
    "colab": {},
    "colab_type": "code",
    "id": "9D8GgUovHbG0"
   },
   "outputs": [],
   "source": [
    "#@title Import modules\n",
    "import numpy as np\n",
    "import pandas as pd\n",
    "import tensorflow as tf\n",
    "from matplotlib import pyplot as plt\n",
    "\n",
    "pd.options.display.max_rows = 10\n",
    "pd.options.display.float_format = \"{:.1f}\".format"
   ]
  },
  {
   "attachments": {},
   "cell_type": "markdown",
   "metadata": {
    "colab_type": "text",
    "id": "xjvrrClQeAJu"
   },
   "source": [
    "## Load the datasets from the internet\n",
    "\n",
    "The following code cell loads the separate .csv files and creates the following two pandas DataFrames:\n",
    "\n",
    "* `train_df`, which contains the training set.\n",
    "* `test_df`, which contains the test set.\n",
    "\n"
   ]
  },
  {
   "cell_type": "code",
   "execution_count": 3,
   "metadata": {
    "colab": {},
    "colab_type": "code",
    "id": "zUnTc_wfd_o3"
   },
   "outputs": [],
   "source": [
    "train_df = pd.read_csv(\"https://download.mlcc.google.com/mledu-datasets/california_housing_train.csv\")\n",
    "test_df = pd.read_csv(\"https://download.mlcc.google.com/mledu-datasets/california_housing_test.csv\")"
   ]
  },
  {
   "attachments": {},
   "cell_type": "markdown",
   "metadata": {
    "colab_type": "text",
    "id": "P_KBdj2M_yjM"
   },
   "source": [
    "## Scale the label values\n",
    "\n",
    "The following code cell scales the `median_house_value`. \n",
    "See the previous Colab exercise for details."
   ]
  },
  {
   "cell_type": "code",
   "execution_count": 4,
   "metadata": {
    "colab": {},
    "colab_type": "code",
    "id": "3hc7QQhaAFXD"
   },
   "outputs": [],
   "source": [
    "scale_factor = 1000.0\n",
    "\n",
    "# Scale the training set's label.\n",
    "train_df[\"median_house_value\"] /= scale_factor \n",
    "\n",
    "# Scale the test set's label\n",
    "test_df[\"median_house_value\"] /= scale_factor"
   ]
  },
  {
   "attachments": {},
   "cell_type": "markdown",
   "metadata": {
    "colab_type": "text",
    "id": "FhessIIV8VPc"
   },
   "source": [
    "## Load the functions that build and train a model\n",
    "\n",
    "The following code cell defines two functions:\n",
    "\n",
    "  * `build_model`, which defines the model's topography.\n",
    "  * `train_model`, which will ultimately train the model, outputting not only the loss value for the training set but also the loss value for the validation set. \n",
    "\n",
    "Since you don't need to understand model building code right now, we've hidden this code cell. As always, you must run hidden code cells."
   ]
  },
  {
   "cell_type": "code",
   "execution_count": 5,
   "metadata": {
    "cellView": "form",
    "colab": {},
    "colab_type": "code",
    "id": "bvonhK857msj"
   },
   "outputs": [
    {
     "name": "stdout",
     "output_type": "stream",
     "text": [
      "Defined the build_model and train_model functions.\n"
     ]
    }
   ],
   "source": [
    "#@title Define the functions that build and train a model\n",
    "def build_model(my_learning_rate):\n",
    "  \"\"\"Create and compile a simple linear regression model.\"\"\"\n",
    "  # Most simple tf.keras models are sequential.\n",
    "  model = tf.keras.models.Sequential()\n",
    "\n",
    "  # Add one linear layer to the model to yield a simple linear regressor.\n",
    "  model.add(tf.keras.layers.Dense(units=1, input_shape=(1,)))\n",
    "\n",
    "  # Compile the model topography into code that TensorFlow can efficiently\n",
    "  # execute. Configure training to minimize the model's mean squared error. \n",
    "  model.compile(optimizer=tf.keras.optimizers.RMSprop(lr=my_learning_rate),\n",
    "                loss=\"mean_squared_error\",\n",
    "                metrics=[tf.keras.metrics.RootMeanSquaredError()])\n",
    "\n",
    "  return model               \n",
    "\n",
    "\n",
    "def train_model(model, df, feature, label, my_epochs, \n",
    "                my_batch_size=None, my_validation_split=0.1):\n",
    "  \"\"\"Feed a dataset into the model in order to train it.\"\"\"\n",
    "\n",
    "  history = model.fit(x=df[feature],\n",
    "                      y=df[label],\n",
    "                      batch_size=my_batch_size,\n",
    "                      epochs=my_epochs,\n",
    "                      validation_split=my_validation_split)\n",
    "\n",
    "  # Gather the model's trained weight and bias.\n",
    "  trained_weight = model.get_weights()[0]\n",
    "  trained_bias = model.get_weights()[1]\n",
    "\n",
    "  # The list of epochs is stored separately from the \n",
    "  # rest of history.\n",
    "  epochs = history.epoch\n",
    "  \n",
    "  # Isolate the root mean squared error for each epoch.\n",
    "  hist = pd.DataFrame(history.history)\n",
    "  rmse = hist[\"root_mean_squared_error\"]\n",
    "\n",
    "  return epochs, rmse, history.history   \n",
    "\n",
    "print(\"Defined the build_model and train_model functions.\")"
   ]
  },
  {
   "attachments": {},
   "cell_type": "markdown",
   "metadata": {
    "colab_type": "text",
    "id": "8gRu4Ri0D8tH"
   },
   "source": [
    "## Define plotting functions\n",
    "\n",
    "The `plot_the_loss_curve` function plots loss vs. epochs for both the training set and the validation set."
   ]
  },
  {
   "cell_type": "code",
   "execution_count": 6,
   "metadata": {
    "cellView": "form",
    "colab": {},
    "colab_type": "code",
    "id": "QA7hsqPZDvVM"
   },
   "outputs": [
    {
     "name": "stdout",
     "output_type": "stream",
     "text": [
      "Defined the plot_the_loss_curve function.\n"
     ]
    }
   ],
   "source": [
    "#@title Define the plotting function\n",
    "\n",
    "def plot_the_loss_curve(epochs, mae_training, mae_validation):\n",
    "  \"\"\"Plot a curve of loss vs. epoch.\"\"\"\n",
    "\n",
    "  plt.figure()\n",
    "  plt.xlabel(\"Epoch\")\n",
    "  plt.ylabel(\"Root Mean Squared Error\")\n",
    "\n",
    "  plt.plot(epochs[1:], mae_training[1:], label=\"Training Loss\")\n",
    "  plt.plot(epochs[1:], mae_validation[1:], label=\"Validation Loss\")\n",
    "  plt.legend()\n",
    "  \n",
    "  # We're not going to plot the first epoch, since the loss on the first epoch\n",
    "  # is often substantially greater than the loss for other epochs.\n",
    "  merged_mae_lists = mae_training[1:] + mae_validation[1:]\n",
    "  highest_loss = max(merged_mae_lists)\n",
    "  lowest_loss = min(merged_mae_lists)\n",
    "  delta = highest_loss - lowest_loss\n",
    "  print(delta)\n",
    "\n",
    "  top_of_y_axis = highest_loss + (delta * 0.05)\n",
    "  bottom_of_y_axis = lowest_loss - (delta * 0.05)\n",
    "   \n",
    "  plt.ylim([bottom_of_y_axis, top_of_y_axis])\n",
    "  plt.show()  \n",
    "\n",
    "print(\"Defined the plot_the_loss_curve function.\")"
   ]
  },
  {
   "attachments": {},
   "cell_type": "markdown",
   "metadata": {
    "colab_type": "text",
    "id": "jipBqEQXlsN8"
   },
   "source": [
    "## Task 1: Experiment with the validation split\n",
    "\n",
    "In the following code cell, you'll see a variable named `validation_split`, which we've initialized at 0.2.  The `validation_split` variable specifies the proportion of the original training set that will serve as the validation set. The original training set contains 17,000 examples. Therefore, a `validation_split` of 0.2 means that:\n",
    "\n",
    "* 17,000 * 0.2 ~= 3,400 examples will become the validation set.\n",
    "* 17,000 * 0.8 ~= 13,600 examples will become the new training set.\n",
    "\n",
    "The following code builds a model, trains it on the training set, and evaluates the built model on both:\n",
    "\n",
    "* The training set.\n",
    "* And the validation set.\n",
    "\n",
    "If the data in the training set is similar to the data in the validation set, then the two loss curves and the final loss values should be almost identical. However, the loss curves and final loss values are **not** almost identical. Hmm, that's odd.  \n",
    "\n",
    "Experiment with two or three different values of `validation_split`.  Do different values of `validation_split` fix the problem? \n"
   ]
  },
  {
   "cell_type": "code",
   "execution_count": 11,
   "metadata": {
    "colab": {},
    "colab_type": "code",
    "id": "knP23Taoa00a"
   },
   "outputs": [
    {
     "name": "stdout",
     "output_type": "stream",
     "text": [
      "Epoch 1/30\n"
     ]
    },
    {
     "name": "stderr",
     "output_type": "stream",
     "text": [
      "c:\\Users\\SiunKim\\.virtualenvs\\python_3_8_propensity_acs_project\\lib\\site-packages\\keras\\optimizers\\optimizer_v2\\rmsprop.py:135: UserWarning: The `lr` argument is deprecated, use `learning_rate` instead.\n",
      "  super(RMSprop, self).__init__(name, **kwargs)\n"
     ]
    },
    {
     "name": "stdout",
     "output_type": "stream",
     "text": [
      "119/119 [==============================] - 1s 3ms/step - loss: 39506.1484 - root_mean_squared_error: 198.7615 - val_loss: 41281.8867 - val_root_mean_squared_error: 203.1794\n",
      "Epoch 2/30\n",
      "119/119 [==============================] - 0s 2ms/step - loss: 24633.3496 - root_mean_squared_error: 156.9502 - val_loss: 25220.2422 - val_root_mean_squared_error: 158.8088\n",
      "Epoch 3/30\n",
      "119/119 [==============================] - 0s 2ms/step - loss: 14288.6025 - root_mean_squared_error: 119.5349 - val_loss: 14421.1934 - val_root_mean_squared_error: 120.0883\n",
      "Epoch 4/30\n",
      "119/119 [==============================] - 0s 1ms/step - loss: 8558.2402 - root_mean_squared_error: 92.5108 - val_loss: 8761.1699 - val_root_mean_squared_error: 93.6011\n",
      "Epoch 5/30\n",
      "119/119 [==============================] - 0s 2ms/step - loss: 6837.9355 - root_mean_squared_error: 82.6918 - val_loss: 7685.8330 - val_root_mean_squared_error: 87.6689\n",
      "Epoch 6/30\n",
      "119/119 [==============================] - 0s 2ms/step - loss: 6780.7295 - root_mean_squared_error: 82.3452 - val_loss: 7655.5356 - val_root_mean_squared_error: 87.4959\n",
      "Epoch 7/30\n",
      "119/119 [==============================] - 0s 2ms/step - loss: 6781.5571 - root_mean_squared_error: 82.3502 - val_loss: 7681.3984 - val_root_mean_squared_error: 87.6436\n",
      "Epoch 8/30\n",
      "119/119 [==============================] - 0s 2ms/step - loss: 6780.2017 - root_mean_squared_error: 82.3420 - val_loss: 7646.7397 - val_root_mean_squared_error: 87.4456\n",
      "Epoch 9/30\n",
      "119/119 [==============================] - 0s 2ms/step - loss: 6780.2354 - root_mean_squared_error: 82.3422 - val_loss: 7744.2964 - val_root_mean_squared_error: 88.0017\n",
      "Epoch 10/30\n",
      "119/119 [==============================] - 0s 1ms/step - loss: 6781.9565 - root_mean_squared_error: 82.3526 - val_loss: 7638.3491 - val_root_mean_squared_error: 87.3977\n",
      "Epoch 11/30\n",
      "119/119 [==============================] - 0s 2ms/step - loss: 6780.6582 - root_mean_squared_error: 82.3447 - val_loss: 7737.7202 - val_root_mean_squared_error: 87.9643\n",
      "Epoch 12/30\n",
      "119/119 [==============================] - 0s 2ms/step - loss: 6781.1621 - root_mean_squared_error: 82.3478 - val_loss: 7631.6602 - val_root_mean_squared_error: 87.3594\n",
      "Epoch 13/30\n",
      "119/119 [==============================] - 0s 2ms/step - loss: 6781.7915 - root_mean_squared_error: 82.3516 - val_loss: 7682.3311 - val_root_mean_squared_error: 87.6489\n",
      "Epoch 14/30\n",
      "119/119 [==============================] - 0s 2ms/step - loss: 6781.3062 - root_mean_squared_error: 82.3487 - val_loss: 7707.5176 - val_root_mean_squared_error: 87.7925\n",
      "Epoch 15/30\n",
      "119/119 [==============================] - 0s 2ms/step - loss: 6781.4902 - root_mean_squared_error: 82.3498 - val_loss: 7640.4653 - val_root_mean_squared_error: 87.4098\n",
      "Epoch 16/30\n",
      "119/119 [==============================] - 0s 2ms/step - loss: 6780.9204 - root_mean_squared_error: 82.3463 - val_loss: 7629.1294 - val_root_mean_squared_error: 87.3449\n",
      "Epoch 17/30\n",
      "119/119 [==============================] - 0s 2ms/step - loss: 6779.4326 - root_mean_squared_error: 82.3373 - val_loss: 7688.3945 - val_root_mean_squared_error: 87.6835\n",
      "Epoch 18/30\n",
      "119/119 [==============================] - 0s 2ms/step - loss: 6780.4458 - root_mean_squared_error: 82.3435 - val_loss: 7593.9287 - val_root_mean_squared_error: 87.1432\n",
      "Epoch 19/30\n",
      "119/119 [==============================] - 0s 2ms/step - loss: 6780.9141 - root_mean_squared_error: 82.3463 - val_loss: 7725.3530 - val_root_mean_squared_error: 87.8940\n",
      "Epoch 20/30\n",
      "119/119 [==============================] - 0s 2ms/step - loss: 6780.4385 - root_mean_squared_error: 82.3434 - val_loss: 7665.6445 - val_root_mean_squared_error: 87.5537\n",
      "Epoch 21/30\n",
      "119/119 [==============================] - 0s 2ms/step - loss: 6781.6221 - root_mean_squared_error: 82.3506 - val_loss: 7674.8501 - val_root_mean_squared_error: 87.6062\n",
      "Epoch 22/30\n",
      "119/119 [==============================] - 0s 2ms/step - loss: 6781.4517 - root_mean_squared_error: 82.3496 - val_loss: 7674.0957 - val_root_mean_squared_error: 87.6019\n",
      "Epoch 23/30\n",
      "119/119 [==============================] - 0s 2ms/step - loss: 6780.5747 - root_mean_squared_error: 82.3442 - val_loss: 7619.3945 - val_root_mean_squared_error: 87.2891\n",
      "Epoch 24/30\n",
      "119/119 [==============================] - 0s 2ms/step - loss: 6780.4263 - root_mean_squared_error: 82.3433 - val_loss: 7717.4219 - val_root_mean_squared_error: 87.8489\n",
      "Epoch 25/30\n",
      "119/119 [==============================] - 0s 2ms/step - loss: 6781.6133 - root_mean_squared_error: 82.3505 - val_loss: 7714.7803 - val_root_mean_squared_error: 87.8338\n",
      "Epoch 26/30\n",
      "119/119 [==============================] - 0s 2ms/step - loss: 6780.7856 - root_mean_squared_error: 82.3455 - val_loss: 7630.7720 - val_root_mean_squared_error: 87.3543\n",
      "Epoch 27/30\n",
      "119/119 [==============================] - 0s 1ms/step - loss: 6780.9453 - root_mean_squared_error: 82.3465 - val_loss: 7627.9849 - val_root_mean_squared_error: 87.3383\n",
      "Epoch 28/30\n",
      "119/119 [==============================] - 0s 2ms/step - loss: 6781.2251 - root_mean_squared_error: 82.3482 - val_loss: 7683.4268 - val_root_mean_squared_error: 87.6552\n",
      "Epoch 29/30\n",
      "119/119 [==============================] - 0s 2ms/step - loss: 6781.4307 - root_mean_squared_error: 82.3494 - val_loss: 7617.8794 - val_root_mean_squared_error: 87.2805\n",
      "Epoch 30/30\n",
      "119/119 [==============================] - 0s 2ms/step - loss: 6780.8184 - root_mean_squared_error: 82.3457 - val_loss: 7657.7959 - val_root_mean_squared_error: 87.5088\n",
      "76.47151184082031\n"
     ]
    },
    {
     "data": {
      "image/png": "[encoded data removed]",
      "text/plain": [
       "<Figure size 432x288 with 1 Axes>"
      ]
     },
     "metadata": {
      "needs_background": "light"
     },
     "output_type": "display_data"
    }
   ],
   "source": [
    "# The following variables are the hyperparameters.\n",
    "learning_rate = 0.08\n",
    "epochs = 30\n",
    "batch_size = 100\n",
    "\n",
    "# Split the original training set into a reduced training set and a\n",
    "# validation set. \n",
    "validation_split=0.3\n",
    "\n",
    "# Identify the feature and the label.\n",
    "my_feature=\"median_income\"  # the median income on a specific city block.\n",
    "my_label=\"median_house_value\" # the median value of a house on a specific city block.\n",
    "# That is, you're going to create a model that predicts house value based \n",
    "# solely on the neighborhood's median income.  \n",
    "\n",
    "# Discard any pre-existing version of the model.\n",
    "my_model = None\n",
    "\n",
    "# Invoke the functions to build and train the model.\n",
    "my_model = build_model(learning_rate)\n",
    "epochs, rmse, history = train_model(my_model, train_df, my_feature, \n",
    "                                    my_label, epochs, batch_size, \n",
    "                                    validation_split)\n",
    "\n",
    "plot_the_loss_curve(epochs, history[\"root_mean_squared_error\"], \n",
    "                    history[\"val_root_mean_squared_error\"])"
   ]
  },
  {
   "attachments": {},
   "cell_type": "markdown",
   "metadata": {
    "colab_type": "text",
    "id": "TKa11JK4Pm3f"
   },
   "source": [
    "## Task 2: Determine **why** the loss curves differ\n",
    "\n",
    "No matter how you split the training set and the validation set, the loss curves differ significantly. Evidently, the data in the training set isn't similar enough to the data in the validation set. Counterintuitive? Yes, but this problem is actually pretty common in machine learning. \n",
    "\n",
    "Your task is to determine **why** the loss curves aren't highly similar. As with most issues in machine learning, the problem is rooted in the data itself. To solve this mystery of why the training set and validation set aren't almost identical, write a line or two of [pandas code](https://colab.research.google.com/drive/1gUeYFsYmoyqpQJWq7krrZZNUFvBPwrJf) in the following code cell.  Here are a couple of hints:\n",
    "\n",
    "  * The previous code cell split the original training set into:\n",
    "    * a reduced training set (the original training set - the validation set)\n",
    "    * the validation set \n",
    "  * By default, the pandas [`head`](https://pandas.pydata.org/pandas-docs/stable/reference/api/pandas.DataFrame.head.html) method outputs the *first* 5 rows of the DataFrame. To see more of the training set, specify the `n` argument to `head` and assign a large positive integer to `n`."
   ]
  },
  {
   "cell_type": "code",
   "execution_count": 15,
   "metadata": {
    "colab": {},
    "colab_type": "code",
    "id": "VJQcAZkwJt_p"
   },
   "outputs": [
    {
     "data": {
      "text/html": [
       "<div>\n",
       "<style scoped>\n",
       "    .dataframe tbody tr th:only-of-type {\n",
       "        vertical-align: middle;\n",
       "    }\n",
       "\n",
       "    .dataframe tbody tr th {\n",
       "        vertical-align: top;\n",
       "    }\n",
       "\n",
       "    .dataframe thead th {\n",
       "        text-align: right;\n",
       "    }\n",
       "</style>\n",
       "<table border=\"1\" class=\"dataframe\">\n",
       "  <thead>\n",
       "    <tr style=\"text-align: right;\">\n",
       "      <th></th>\n",
       "      <th>longitude</th>\n",
       "      <th>latitude</th>\n",
       "      <th>housing_median_age</th>\n",
       "      <th>total_rooms</th>\n",
       "      <th>total_bedrooms</th>\n",
       "      <th>population</th>\n",
       "      <th>households</th>\n",
       "      <th>median_income</th>\n",
       "      <th>median_house_value</th>\n",
       "    </tr>\n",
       "  </thead>\n",
       "  <tbody>\n",
       "    <tr>\n",
       "      <th>0</th>\n",
       "      <td>-114.3</td>\n",
       "      <td>34.2</td>\n",
       "      <td>15.0</td>\n",
       "      <td>5612.0</td>\n",
       "      <td>1283.0</td>\n",
       "      <td>1015.0</td>\n",
       "      <td>472.0</td>\n",
       "      <td>1.5</td>\n",
       "      <td>66.9</td>\n",
       "    </tr>\n",
       "    <tr>\n",
       "      <th>1</th>\n",
       "      <td>-114.5</td>\n",
       "      <td>34.4</td>\n",
       "      <td>19.0</td>\n",
       "      <td>7650.0</td>\n",
       "      <td>1901.0</td>\n",
       "      <td>1129.0</td>\n",
       "      <td>463.0</td>\n",
       "      <td>1.8</td>\n",
       "      <td>80.1</td>\n",
       "    </tr>\n",
       "    <tr>\n",
       "      <th>2</th>\n",
       "      <td>-114.6</td>\n",
       "      <td>33.7</td>\n",
       "      <td>17.0</td>\n",
       "      <td>720.0</td>\n",
       "      <td>174.0</td>\n",
       "      <td>333.0</td>\n",
       "      <td>117.0</td>\n",
       "      <td>1.7</td>\n",
       "      <td>85.7</td>\n",
       "    </tr>\n",
       "    <tr>\n",
       "      <th>3</th>\n",
       "      <td>-114.6</td>\n",
       "      <td>33.6</td>\n",
       "      <td>14.0</td>\n",
       "      <td>1501.0</td>\n",
       "      <td>337.0</td>\n",
       "      <td>515.0</td>\n",
       "      <td>226.0</td>\n",
       "      <td>3.2</td>\n",
       "      <td>73.4</td>\n",
       "    </tr>\n",
       "    <tr>\n",
       "      <th>4</th>\n",
       "      <td>-114.6</td>\n",
       "      <td>33.6</td>\n",
       "      <td>20.0</td>\n",
       "      <td>1454.0</td>\n",
       "      <td>326.0</td>\n",
       "      <td>624.0</td>\n",
       "      <td>262.0</td>\n",
       "      <td>1.9</td>\n",
       "      <td>65.5</td>\n",
       "    </tr>\n",
       "    <tr>\n",
       "      <th>...</th>\n",
       "      <td>...</td>\n",
       "      <td>...</td>\n",
       "      <td>...</td>\n",
       "      <td>...</td>\n",
       "      <td>...</td>\n",
       "      <td>...</td>\n",
       "      <td>...</td>\n",
       "      <td>...</td>\n",
       "      <td>...</td>\n",
       "    </tr>\n",
       "    <tr>\n",
       "      <th>95</th>\n",
       "      <td>-115.6</td>\n",
       "      <td>32.8</td>\n",
       "      <td>5.0</td>\n",
       "      <td>805.0</td>\n",
       "      <td>143.0</td>\n",
       "      <td>458.0</td>\n",
       "      <td>143.0</td>\n",
       "      <td>4.5</td>\n",
       "      <td>96.3</td>\n",
       "    </tr>\n",
       "    <tr>\n",
       "      <th>96</th>\n",
       "      <td>-115.6</td>\n",
       "      <td>32.8</td>\n",
       "      <td>10.0</td>\n",
       "      <td>1088.0</td>\n",
       "      <td>203.0</td>\n",
       "      <td>533.0</td>\n",
       "      <td>201.0</td>\n",
       "      <td>3.7</td>\n",
       "      <td>87.5</td>\n",
       "    </tr>\n",
       "    <tr>\n",
       "      <th>97</th>\n",
       "      <td>-115.6</td>\n",
       "      <td>32.8</td>\n",
       "      <td>14.0</td>\n",
       "      <td>1687.0</td>\n",
       "      <td>507.0</td>\n",
       "      <td>762.0</td>\n",
       "      <td>451.0</td>\n",
       "      <td>1.7</td>\n",
       "      <td>64.4</td>\n",
       "    </tr>\n",
       "    <tr>\n",
       "      <th>98</th>\n",
       "      <td>-115.6</td>\n",
       "      <td>32.8</td>\n",
       "      <td>5.0</td>\n",
       "      <td>2494.0</td>\n",
       "      <td>414.0</td>\n",
       "      <td>1416.0</td>\n",
       "      <td>421.0</td>\n",
       "      <td>5.8</td>\n",
       "      <td>110.1</td>\n",
       "    </tr>\n",
       "    <tr>\n",
       "      <th>99</th>\n",
       "      <td>-115.6</td>\n",
       "      <td>32.9</td>\n",
       "      <td>20.0</td>\n",
       "      <td>1608.0</td>\n",
       "      <td>274.0</td>\n",
       "      <td>862.0</td>\n",
       "      <td>248.0</td>\n",
       "      <td>4.9</td>\n",
       "      <td>90.8</td>\n",
       "    </tr>\n",
       "  </tbody>\n",
       "</table>\n",
       "<p>100 rows × 9 columns</p>\n",
       "</div>"
      ],
      "text/plain": [
       "    longitude  latitude  housing_median_age  total_rooms  total_bedrooms  \\\n",
       "0      -114.3      34.2                15.0       5612.0          1283.0   \n",
       "1      -114.5      34.4                19.0       7650.0          1901.0   \n",
       "2      -114.6      33.7                17.0        720.0           174.0   \n",
       "3      -114.6      33.6                14.0       1501.0           337.0   \n",
       "4      -114.6      33.6                20.0       1454.0           326.0   \n",
       "..        ...       ...                 ...          ...             ...   \n",
       "95     -115.6      32.8                 5.0        805.0           143.0   \n",
       "96     -115.6      32.8                10.0       1088.0           203.0   \n",
       "97     -115.6      32.8                14.0       1687.0           507.0   \n",
       "98     -115.6      32.8                 5.0       2494.0           414.0   \n",
       "99     -115.6      32.9                20.0       1608.0           274.0   \n",
       "\n",
       "    population  households  median_income  median_house_value  \n",
       "0       1015.0       472.0            1.5                66.9  \n",
       "1       1129.0       463.0            1.8                80.1  \n",
       "2        333.0       117.0            1.7                85.7  \n",
       "3        515.0       226.0            3.2                73.4  \n",
       "4        624.0       262.0            1.9                65.5  \n",
       "..         ...         ...            ...                 ...  \n",
       "95       458.0       143.0            4.5                96.3  \n",
       "96       533.0       201.0            3.7                87.5  \n",
       "97       762.0       451.0            1.7                64.4  \n",
       "98      1416.0       421.0            5.8               110.1  \n",
       "99       862.0       248.0            4.9                90.8  \n",
       "\n",
       "[100 rows x 9 columns]"
      ]
     },
     "execution_count": 15,
     "metadata": {},
     "output_type": "execute_result"
    }
   ],
   "source": [
    "# Write some code in this code cell.\n",
    "train_df.head(n=100)"
   ]
  },
  {
   "cell_type": "code",
   "execution_count": null,
   "metadata": {
    "cellView": "form",
    "colab": {},
    "colab_type": "code",
    "id": "EnNvkFwwK8WY"
   },
   "outputs": [],
   "source": [
    "#@title Double-click for a possible solution to Task 2.\n",
    "\n",
    "# Examine examples 0 through 4 and examples 25 through 29\n",
    "# of the training set\n",
    "train_df.head(n=1000)\n",
    "\n",
    "# The original training set is sorted by longitude. \n",
    "# Apparently, longitude influences the relationship of\n",
    "# total_rooms to median_house_value."
   ]
  },
  {
   "attachments": {},
   "cell_type": "markdown",
   "metadata": {
    "colab_type": "text",
    "id": "rw4xI1ZEckI8"
   },
   "source": [
    "## Task 3. Fix the problem\n",
    "\n",
    "To fix the problem, shuffle the examples in the training set before splitting the examples into a training set and validation set. To do so, take the following steps:\n",
    "\n",
    "1. Shuffle the data in the training set by adding the following line anywhere before you call `train_model` (in the code cell associated with Task 1):\n",
    "\n",
    "```\n",
    "  shuffled_train_df = train_df.reindex(np.random.permutation(train_df.index))\n",
    "```                                    \n",
    "\n",
    "2. Pass `shuffled_train_df` (instead of `train_df`) as the second argument to `train_model` (in the code call associated with Task 1) so that the call becomes as follows:\n",
    "\n",
    "```\n",
    "  epochs, rmse, history = train_model(my_model, shuffled_train_df, my_feature, \n",
    "                                      my_label, epochs, batch_size, \n",
    "                                      validation_split)\n",
    "```"
   ]
  },
  {
   "cell_type": "code",
   "execution_count": 26,
   "metadata": {
    "cellView": "form",
    "colab": {},
    "colab_type": "code",
    "id": "ncODhpv0h-LG"
   },
   "outputs": [
    {
     "name": "stdout",
     "output_type": "stream",
     "text": [
      "Epoch 1/70\n"
     ]
    },
    {
     "name": "stderr",
     "output_type": "stream",
     "text": [
      "c:\\Users\\SiunKim\\.virtualenvs\\python_3_8_propensity_acs_project\\lib\\site-packages\\keras\\optimizers\\optimizer_v2\\rmsprop.py:135: UserWarning: The `lr` argument is deprecated, use `learning_rate` instead.\n",
      "  super(RMSprop, self).__init__(name, **kwargs)\n"
     ]
    },
    {
     "name": "stdout",
     "output_type": "stream",
     "text": [
      "136/136 [==============================] - 1s 2ms/step - loss: 44938.1367 - root_mean_squared_error: 211.9862 - val_loss: 33649.2383 - val_root_mean_squared_error: 183.4373\n",
      "Epoch 2/70\n",
      "136/136 [==============================] - 0s 1ms/step - loss: 26532.6094 - root_mean_squared_error: 162.8883 - val_loss: 18535.6543 - val_root_mean_squared_error: 136.1457\n",
      "Epoch 3/70\n",
      "136/136 [==============================] - 0s 1ms/step - loss: 14335.1436 - root_mean_squared_error: 119.7295 - val_loss: 9713.9316 - val_root_mean_squared_error: 98.5593\n",
      "Epoch 4/70\n",
      "136/136 [==============================] - 0s 2ms/step - loss: 8242.9746 - root_mean_squared_error: 90.7908 - val_loss: 6825.6670 - val_root_mean_squared_error: 82.6176\n",
      "Epoch 5/70\n",
      "136/136 [==============================] - 0s 1ms/step - loss: 7076.9600 - root_mean_squared_error: 84.1247 - val_loss: 6807.7524 - val_root_mean_squared_error: 82.5091\n",
      "Epoch 6/70\n",
      "136/136 [==============================] - 0s 1ms/step - loss: 7067.0337 - root_mean_squared_error: 84.0657 - val_loss: 6803.8970 - val_root_mean_squared_error: 82.4857\n",
      "Epoch 7/70\n",
      "136/136 [==============================] - 0s 1ms/step - loss: 7066.3975 - root_mean_squared_error: 84.0619 - val_loss: 6806.4780 - val_root_mean_squared_error: 82.5014\n",
      "Epoch 8/70\n",
      "136/136 [==============================] - 0s 2ms/step - loss: 7067.4141 - root_mean_squared_error: 84.0679 - val_loss: 6803.7007 - val_root_mean_squared_error: 82.4846\n",
      "Epoch 9/70\n",
      "136/136 [==============================] - 0s 1ms/step - loss: 7066.9805 - root_mean_squared_error: 84.0653 - val_loss: 6809.7983 - val_root_mean_squared_error: 82.5215\n",
      "Epoch 10/70\n",
      "136/136 [==============================] - 0s 1ms/step - loss: 7067.3960 - root_mean_squared_error: 84.0678 - val_loss: 6801.8628 - val_root_mean_squared_error: 82.4734\n",
      "Epoch 11/70\n",
      "136/136 [==============================] - 0s 1ms/step - loss: 7065.8413 - root_mean_squared_error: 84.0586 - val_loss: 6817.2354 - val_root_mean_squared_error: 82.5666\n",
      "Epoch 12/70\n",
      "136/136 [==============================] - 0s 1ms/step - loss: 7067.5771 - root_mean_squared_error: 84.0689 - val_loss: 6812.6436 - val_root_mean_squared_error: 82.5387\n",
      "Epoch 13/70\n",
      "136/136 [==============================] - 0s 1ms/step - loss: 7066.8208 - root_mean_squared_error: 84.0644 - val_loss: 6813.1987 - val_root_mean_squared_error: 82.5421\n",
      "Epoch 14/70\n",
      "136/136 [==============================] - 0s 1ms/step - loss: 7064.2412 - root_mean_squared_error: 84.0490 - val_loss: 6843.1904 - val_root_mean_squared_error: 82.7236\n",
      "Epoch 15/70\n",
      "136/136 [==============================] - 0s 2ms/step - loss: 7067.2334 - root_mean_squared_error: 84.0668 - val_loss: 6801.3311 - val_root_mean_squared_error: 82.4702\n",
      "Epoch 16/70\n",
      "136/136 [==============================] - 0s 1ms/step - loss: 7067.3931 - root_mean_squared_error: 84.0678 - val_loss: 6813.4624 - val_root_mean_squared_error: 82.5437\n",
      "Epoch 17/70\n",
      "136/136 [==============================] - 0s 1ms/step - loss: 7066.1943 - root_mean_squared_error: 84.0607 - val_loss: 6826.3115 - val_root_mean_squared_error: 82.6215\n",
      "Epoch 18/70\n",
      "136/136 [==============================] - 0s 1ms/step - loss: 7068.0557 - root_mean_squared_error: 84.0717 - val_loss: 6806.8794 - val_root_mean_squared_error: 82.5038\n",
      "Epoch 19/70\n",
      "136/136 [==============================] - 0s 1ms/step - loss: 7067.9521 - root_mean_squared_error: 84.0711 - val_loss: 6807.2764 - val_root_mean_squared_error: 82.5062\n",
      "Epoch 20/70\n",
      "136/136 [==============================] - 0s 2ms/step - loss: 7067.1382 - root_mean_squared_error: 84.0663 - val_loss: 6809.8086 - val_root_mean_squared_error: 82.5216\n",
      "Epoch 21/70\n",
      "136/136 [==============================] - 0s 1ms/step - loss: 7067.4678 - root_mean_squared_error: 84.0682 - val_loss: 6811.7065 - val_root_mean_squared_error: 82.5331\n",
      "Epoch 22/70\n",
      "136/136 [==============================] - 0s 1ms/step - loss: 7066.1274 - root_mean_squared_error: 84.0603 - val_loss: 6803.5449 - val_root_mean_squared_error: 82.4836\n",
      "Epoch 23/70\n",
      "136/136 [==============================] - 0s 1ms/step - loss: 7067.2363 - root_mean_squared_error: 84.0669 - val_loss: 6810.5894 - val_root_mean_squared_error: 82.5263\n",
      "Epoch 24/70\n",
      "136/136 [==============================] - 0s 1ms/step - loss: 7066.0327 - root_mean_squared_error: 84.0597 - val_loss: 6803.5166 - val_root_mean_squared_error: 82.4834\n",
      "Epoch 25/70\n",
      "136/136 [==============================] - 0s 1ms/step - loss: 7066.0708 - root_mean_squared_error: 84.0599 - val_loss: 6810.6416 - val_root_mean_squared_error: 82.5266\n",
      "Epoch 26/70\n",
      "136/136 [==============================] - 0s 1ms/step - loss: 7066.7202 - root_mean_squared_error: 84.0638 - val_loss: 6801.1416 - val_root_mean_squared_error: 82.4690\n",
      "Epoch 27/70\n",
      "136/136 [==============================] - 0s 2ms/step - loss: 7067.6270 - root_mean_squared_error: 84.0692 - val_loss: 6807.6025 - val_root_mean_squared_error: 82.5082\n",
      "Epoch 28/70\n",
      "136/136 [==============================] - 0s 1ms/step - loss: 7066.8340 - root_mean_squared_error: 84.0645 - val_loss: 6803.3955 - val_root_mean_squared_error: 82.4827\n",
      "Epoch 29/70\n",
      "136/136 [==============================] - 0s 1ms/step - loss: 7066.9648 - root_mean_squared_error: 84.0652 - val_loss: 6808.3110 - val_root_mean_squared_error: 82.5125\n",
      "Epoch 30/70\n",
      "136/136 [==============================] - 0s 1ms/step - loss: 7066.1255 - root_mean_squared_error: 84.0602 - val_loss: 6803.6831 - val_root_mean_squared_error: 82.4844\n",
      "Epoch 31/70\n",
      "136/136 [==============================] - 0s 2ms/step - loss: 7066.4805 - root_mean_squared_error: 84.0624 - val_loss: 6807.0679 - val_root_mean_squared_error: 82.5050\n",
      "Epoch 32/70\n",
      "136/136 [==============================] - 0s 2ms/step - loss: 7067.2012 - root_mean_squared_error: 84.0667 - val_loss: 6809.5981 - val_root_mean_squared_error: 82.5203\n",
      "Epoch 33/70\n",
      "136/136 [==============================] - 0s 2ms/step - loss: 7066.5210 - root_mean_squared_error: 84.0626 - val_loss: 6807.0986 - val_root_mean_squared_error: 82.5051\n",
      "Epoch 34/70\n",
      "136/136 [==============================] - 0s 2ms/step - loss: 7067.1616 - root_mean_squared_error: 84.0664 - val_loss: 6801.6084 - val_root_mean_squared_error: 82.4719\n",
      "Epoch 35/70\n",
      "136/136 [==============================] - 0s 2ms/step - loss: 7066.6948 - root_mean_squared_error: 84.0636 - val_loss: 6804.0801 - val_root_mean_squared_error: 82.4868\n",
      "Epoch 36/70\n",
      "136/136 [==============================] - 0s 2ms/step - loss: 7066.8628 - root_mean_squared_error: 84.0646 - val_loss: 6803.2358 - val_root_mean_squared_error: 82.4817\n",
      "Epoch 37/70\n",
      "136/136 [==============================] - 0s 1ms/step - loss: 7067.0010 - root_mean_squared_error: 84.0655 - val_loss: 6801.2983 - val_root_mean_squared_error: 82.4700\n",
      "Epoch 38/70\n",
      "136/136 [==============================] - 0s 1ms/step - loss: 7066.3496 - root_mean_squared_error: 84.0616 - val_loss: 6804.1904 - val_root_mean_squared_error: 82.4875\n",
      "Epoch 39/70\n",
      "136/136 [==============================] - 0s 2ms/step - loss: 7066.5557 - root_mean_squared_error: 84.0628 - val_loss: 6805.7754 - val_root_mean_squared_error: 82.4971\n",
      "Epoch 40/70\n",
      "136/136 [==============================] - 0s 2ms/step - loss: 7066.8843 - root_mean_squared_error: 84.0648 - val_loss: 6814.5942 - val_root_mean_squared_error: 82.5506\n",
      "Epoch 41/70\n",
      "136/136 [==============================] - 0s 2ms/step - loss: 7067.2900 - root_mean_squared_error: 84.0672 - val_loss: 6812.9590 - val_root_mean_squared_error: 82.5406\n",
      "Epoch 42/70\n",
      "136/136 [==============================] - 0s 2ms/step - loss: 7066.6362 - root_mean_squared_error: 84.0633 - val_loss: 6812.9243 - val_root_mean_squared_error: 82.5404\n",
      "Epoch 43/70\n",
      "136/136 [==============================] - 0s 2ms/step - loss: 7066.5430 - root_mean_squared_error: 84.0627 - val_loss: 6808.5029 - val_root_mean_squared_error: 82.5137\n",
      "Epoch 44/70\n",
      "136/136 [==============================] - 0s 1ms/step - loss: 7064.7109 - root_mean_squared_error: 84.0518 - val_loss: 6812.2212 - val_root_mean_squared_error: 82.5362\n",
      "Epoch 45/70\n",
      "136/136 [==============================] - 0s 1ms/step - loss: 7065.2500 - root_mean_squared_error: 84.0550 - val_loss: 6829.4258 - val_root_mean_squared_error: 82.6403\n",
      "Epoch 46/70\n",
      "136/136 [==============================] - 0s 2ms/step - loss: 7067.6289 - root_mean_squared_error: 84.0692 - val_loss: 6802.5542 - val_root_mean_squared_error: 82.4776\n",
      "Epoch 47/70\n",
      "136/136 [==============================] - 0s 2ms/step - loss: 7065.4453 - root_mean_squared_error: 84.0562 - val_loss: 6818.3657 - val_root_mean_squared_error: 82.5734\n",
      "Epoch 48/70\n",
      "136/136 [==============================] - 0s 2ms/step - loss: 7067.1299 - root_mean_squared_error: 84.0662 - val_loss: 6804.9312 - val_root_mean_squared_error: 82.4920\n",
      "Epoch 49/70\n",
      "136/136 [==============================] - 0s 1ms/step - loss: 7066.6870 - root_mean_squared_error: 84.0636 - val_loss: 6805.3042 - val_root_mean_squared_error: 82.4943\n",
      "Epoch 50/70\n",
      "136/136 [==============================] - 0s 1ms/step - loss: 7065.3613 - root_mean_squared_error: 84.0557 - val_loss: 6820.4971 - val_root_mean_squared_error: 82.5863\n",
      "Epoch 51/70\n",
      "136/136 [==============================] - 0s 1ms/step - loss: 7067.5117 - root_mean_squared_error: 84.0685 - val_loss: 6808.9609 - val_root_mean_squared_error: 82.5164\n",
      "Epoch 52/70\n",
      "136/136 [==============================] - 0s 1ms/step - loss: 7066.9507 - root_mean_squared_error: 84.0652 - val_loss: 6806.9365 - val_root_mean_squared_error: 82.5042\n",
      "Epoch 53/70\n",
      "136/136 [==============================] - 0s 1ms/step - loss: 7067.1245 - root_mean_squared_error: 84.0662 - val_loss: 6808.5483 - val_root_mean_squared_error: 82.5139\n",
      "Epoch 54/70\n",
      "136/136 [==============================] - 0s 2ms/step - loss: 7065.8042 - root_mean_squared_error: 84.0583 - val_loss: 6805.7095 - val_root_mean_squared_error: 82.4967\n",
      "Epoch 55/70\n",
      "136/136 [==============================] - 0s 2ms/step - loss: 7066.1934 - root_mean_squared_error: 84.0607 - val_loss: 6809.5151 - val_root_mean_squared_error: 82.5198\n",
      "Epoch 56/70\n",
      "136/136 [==============================] - 0s 2ms/step - loss: 7064.9888 - root_mean_squared_error: 84.0535 - val_loss: 6801.6343 - val_root_mean_squared_error: 82.4720\n",
      "Epoch 57/70\n",
      "136/136 [==============================] - 0s 1ms/step - loss: 7066.1426 - root_mean_squared_error: 84.0603 - val_loss: 6818.6978 - val_root_mean_squared_error: 82.5754\n",
      "Epoch 58/70\n",
      "136/136 [==============================] - 0s 1ms/step - loss: 7065.7690 - root_mean_squared_error: 84.0581 - val_loss: 6833.4053 - val_root_mean_squared_error: 82.6644\n",
      "Epoch 59/70\n",
      "136/136 [==============================] - 0s 2ms/step - loss: 7066.7412 - root_mean_squared_error: 84.0639 - val_loss: 6820.9741 - val_root_mean_squared_error: 82.5892\n",
      "Epoch 60/70\n",
      "136/136 [==============================] - 0s 2ms/step - loss: 7067.3438 - root_mean_squared_error: 84.0675 - val_loss: 6823.5737 - val_root_mean_squared_error: 82.6049\n",
      "Epoch 61/70\n",
      "136/136 [==============================] - 0s 1ms/step - loss: 7067.1460 - root_mean_squared_error: 84.0663 - val_loss: 6808.6025 - val_root_mean_squared_error: 82.5143\n",
      "Epoch 62/70\n",
      "136/136 [==============================] - 0s 1ms/step - loss: 7066.9429 - root_mean_squared_error: 84.0651 - val_loss: 6809.6055 - val_root_mean_squared_error: 82.5203\n",
      "Epoch 63/70\n",
      "136/136 [==============================] - 0s 2ms/step - loss: 7066.9629 - root_mean_squared_error: 84.0652 - val_loss: 6809.0483 - val_root_mean_squared_error: 82.5170\n",
      "Epoch 64/70\n",
      "136/136 [==============================] - 0s 2ms/step - loss: 7066.2783 - root_mean_squared_error: 84.0612 - val_loss: 6814.7559 - val_root_mean_squared_error: 82.5515\n",
      "Epoch 65/70\n",
      "136/136 [==============================] - 0s 1ms/step - loss: 7065.5112 - root_mean_squared_error: 84.0566 - val_loss: 6804.3193 - val_root_mean_squared_error: 82.4883\n",
      "Epoch 66/70\n",
      "136/136 [==============================] - 0s 1ms/step - loss: 7065.9746 - root_mean_squared_error: 84.0593 - val_loss: 6821.7310 - val_root_mean_squared_error: 82.5938\n",
      "Epoch 67/70\n",
      "136/136 [==============================] - 0s 2ms/step - loss: 7067.3525 - root_mean_squared_error: 84.0676 - val_loss: 6810.1934 - val_root_mean_squared_error: 82.5239\n",
      "Epoch 68/70\n",
      "136/136 [==============================] - 0s 1ms/step - loss: 7067.1489 - root_mean_squared_error: 84.0663 - val_loss: 6808.3394 - val_root_mean_squared_error: 82.5127\n",
      "Epoch 69/70\n",
      "136/136 [==============================] - 0s 1ms/step - loss: 7067.5420 - root_mean_squared_error: 84.0687 - val_loss: 6815.2017 - val_root_mean_squared_error: 82.5542\n",
      "Epoch 70/70\n",
      "136/136 [==============================] - 0s 1ms/step - loss: 7066.0459 - root_mean_squared_error: 84.0598 - val_loss: 6801.7979 - val_root_mean_squared_error: 82.4730\n",
      "80.41930389404297\n"
     ]
    },
    {
     "data": {
      "image/png": "[encoded data removed]",
      "text/plain": [
       "<Figure size 432x288 with 1 Axes>"
      ]
     },
     "metadata": {
      "needs_background": "light"
     },
     "output_type": "display_data"
    }
   ],
   "source": [
    "#@title Double-click to view the complete implementation.\n",
    "\n",
    "# The following variables are the hyperparameters.\n",
    "learning_rate = 0.08\n",
    "epochs = 70\n",
    "batch_size = 100\n",
    "\n",
    "# Split the original training set into a reduced training set and a\n",
    "# validation set. \n",
    "validation_split=0.2\n",
    "\n",
    "# Identify the feature and the label.\n",
    "my_feature=\"median_income\"  # the median income on a specific city block.\n",
    "my_label=\"median_house_value\" # the median value of a house on a specific city block.\n",
    "# That is, you're going to create a model that predicts house value based \n",
    "# solely on the neighborhood's median income.  \n",
    "\n",
    "# Discard any pre-existing version of the model.\n",
    "my_model = None\n",
    "\n",
    "# Shuffle the examples.\n",
    "shuffled_train_df = train_df.reindex(np.random.permutation(train_df.index)) \n",
    "\n",
    "# Invoke the functions to build and train the model. Train on the shuffled\n",
    "# training set.\n",
    "my_model = build_model(learning_rate)\n",
    "epochs, rmse, history = train_model(my_model, shuffled_train_df, my_feature, \n",
    "                                    my_label, epochs, batch_size, \n",
    "                                    validation_split)\n",
    "\n",
    "plot_the_loss_curve(epochs, history[\"root_mean_squared_error\"], \n",
    "                    history[\"val_root_mean_squared_error\"])"
   ]
  },
  {
   "attachments": {},
   "cell_type": "markdown",
   "metadata": {
    "colab_type": "text",
    "id": "tKN239_miW8C"
   },
   "source": [
    "Experiment with `validation_split` to answer the following questions:\n",
    "\n",
    "* With the training set shuffled, is the final loss for the training set closer to the final loss for the validation set?  \n",
    "* At what range of values of `validation_split` do the final loss values for the training set and validation set diverge meaningfully?  Why?"
   ]
  },
  {
   "cell_type": "code",
   "execution_count": null,
   "metadata": {
    "cellView": "form",
    "colab": {},
    "colab_type": "code",
    "id": "-UAJ3Q86iz31"
   },
   "outputs": [],
   "source": [
    "#@title Double-click for the answers to the questions\n",
    "\n",
    "# Yes, after shuffling the original training set, \n",
    "# the final loss for the training set and the \n",
    "# validation set become much closer.\n",
    "\n",
    "# If validation_split < 0.15,\n",
    "# the final loss values for the training set and\n",
    "# validation set diverge meaningfully.  Apparently,\n",
    "# the validation set no longer contains enough examples. "
   ]
  },
  {
   "attachments": {},
   "cell_type": "markdown",
   "metadata": {
    "colab_type": "text",
    "id": "1PP-O8TOZOeo"
   },
   "source": [
    "## Task 4: Use the Test Dataset to Evaluate Your Model's Performance\n",
    "\n",
    "The test set usually acts as the ultimate judge of a model's quality. The test set can serve as an impartial judge because its examples haven't been used in training the model. Run the following code cell to evaluate the model with the test set:"
   ]
  },
  {
   "cell_type": "code",
   "execution_count": 27,
   "metadata": {
    "colab": {},
    "colab_type": "code",
    "id": "nd_Sw2cygOip"
   },
   "outputs": [
    {
     "name": "stdout",
     "output_type": "stream",
     "text": [
      "30/30 [==============================] - 0s 1ms/step - loss: 7015.0806 - root_mean_squared_error: 83.7561\n"
     ]
    }
   ],
   "source": [
    "x_test = test_df[my_feature]\n",
    "y_test = test_df[my_label]\n",
    "\n",
    "results = my_model.evaluate(x_test, y_test, batch_size=batch_size)"
   ]
  },
  {
   "attachments": {},
   "cell_type": "markdown",
   "metadata": {
    "colab_type": "text",
    "id": "qoyQKvsjmV_A"
   },
   "source": [
    "Compare the root mean squared error of the model when evaluated on each of the three datasets:\n",
    "\n",
    "* training set: look for `root_mean_squared_error` in the final training epoch.\n",
    "* validation set: look for `val_root_mean_squared_error` in the final training epoch.\n",
    "* test set: run the preceding code cell and examine the `root_mean_squred_error`.\n",
    "\n",
    "Ideally, the root mean squared error of all three sets should be similar. Are they?"
   ]
  },
  {
   "cell_type": "code",
   "execution_count": null,
   "metadata": {
    "cellView": "form",
    "colab": {},
    "colab_type": "code",
    "id": "FxXtp-aVdIgJ"
   },
   "outputs": [],
   "source": [
    "#@title Double-click for an answer\n",
    "\n",
    "# In our experiments, yes, the rmse values \n",
    "# were similar enough. "
   ]
  }
 ],
 "metadata": {
  "colab": {
   "collapsed_sections": [],
   "name": "Validation and Test Sets.ipynb",
   "private_outputs": true,
   "provenance": []
  },
  "kernelspec": {
   "display_name": "Python 3",
   "language": "python",
   "name": "python3"
  },
  "language_info": {
   "codemirror_mode": {
    "name": "ipython",
    "version": 3
   },
   "file_extension": ".py",
   "mimetype": "text/x-python",
   "name": "python",
   "nbconvert_exporter": "python",
   "pygments_lexer": "ipython3",
   "version": "3.8.2"
  }
 },
 "nbformat": 4,
 "nbformat_minor": 1
}
